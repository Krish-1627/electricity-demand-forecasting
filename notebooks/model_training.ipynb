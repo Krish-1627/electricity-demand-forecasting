{
 "cells": [
  {
   "cell_type": "code",
   "execution_count": null,
   "id": "e4f6a067",
   "metadata": {},
   "outputs": [],
   "source": [
    "# Cell 1: Imports\n",
    "import pandas as pd\n",
    "import numpy as np\n",
    "import os\n",
    "from sklearn.linear_model import LinearRegression\n",
    "from xgboost import XGBRegressor\n",
    "from sklearn.metrics import mean_squared_error\n",
    "from sklearn.model_selection import train_test_split\n",
    "import joblib\n",
    "\n",
    "# Cell 2: Load Cleaned Data\n",
    "data_path = \"data/processed/cleaned_data.csv\"\n",
    "df = pd.read_csv(data_path, parse_dates=[\"Date\"])\n",
    "print(\"Cleaned data loaded:\")\n",
    "print(df.columns.tolist())\n",
    "\n",
    "# Cell 3: Add Time-Based Features\n",
    "df[\"Hour\"] = df[\"Date\"].dt.hour\n",
    "df[\"DayOfWeek\"] = df[\"Date\"].dt.dayofweek\n",
    "df[\"Month\"] = df[\"Date\"].dt.month\n",
    "\n",
    "# Cell 4: Feature Selection\n",
    "features = [\"Temperature\", \"Humidity\", \"WindSpeed\", \"Hour\", \"DayOfWeek\", \"Month\"]\n",
    "target = \"Demand\"\n",
    "\n",
    "X = df[features]\n",
    "y = df[target]\n",
    "\n",
    "# Cell 5: Train-Test Split\n",
    "X_train, X_test, y_train, y_test = train_test_split(X, y, test_size=0.2, random_state=42)\n",
    "\n",
    "# Cell 6: Train Linear Regression\n",
    "lr_model = LinearRegression()\n",
    "lr_model.fit(X_train, y_train)\n",
    "lr_preds = lr_model.predict(X_test)\n",
    "lr_rmse = np.sqrt(mean_squared_error(y_test, lr_preds))\n",
    "print(f\"Linear Regression RMSE: {lr_rmse:.2f}\")\n",
    "\n",
    "# Save Linear Model\n",
    "joblib.dump(lr_model, \"models/lr_model.pkl\")\n",
    "\n",
    "# Cell 7: Train XGBoost\n",
    "xgb_model = XGBRegressor(random_state=42, n_estimators=100)\n",
    "xgb_model.fit(X_train, y_train)\n",
    "xgb_preds = xgb_model.predict(X_test)\n",
    "xgb_rmse = np.sqrt(mean_squared_error(y_test, xgb_preds))\n",
    "print(f\"XGBoost RMSE: {xgb_rmse:.2f}\")\n",
    "\n",
    "# Save XGBoost Model\n",
    "joblib.dump(xgb_model, \"models/xgb_model.pkl\")\n",
    "\n",
    "# Done\n",
    "print(\"Models trained and saved to 'models/' folder.\")"
   ]
  }
 ],
 "metadata": {
  "kernelspec": {
   "display_name": "venv",
   "language": "python",
   "name": "python3"
  },
  "language_info": {
   "codemirror_mode": {
    "name": "ipython",
    "version": 3
   },
   "file_extension": ".py",
   "mimetype": "text/x-python",
   "name": "python",
   "nbconvert_exporter": "python",
   "pygments_lexer": "ipython3",
   "version": "3.13.3"
  }
 },
 "nbformat": 4,
 "nbformat_minor": 5
}
