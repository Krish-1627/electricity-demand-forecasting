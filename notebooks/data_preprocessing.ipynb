{
 "cells": [
  {
   "cell_type": "code",
   "execution_count": null,
   "id": "fb83ca74",
   "metadata": {},
   "outputs": [
    {
     "ename": "ModuleNotFoundError",
     "evalue": "No module named 'src'",
     "output_type": "error",
     "traceback": [
      "\u001b[31m---------------------------------------------------------------------------\u001b[39m",
      "\u001b[31mModuleNotFoundError\u001b[39m                       Traceback (most recent call last)",
      "\u001b[36mCell\u001b[39m\u001b[36m \u001b[39m\u001b[32mIn[5]\u001b[39m\u001b[32m, line 9\u001b[39m\n\u001b[32m      6\u001b[39m sys.path.append(os.path.abspath(os.path.join(os.getcwd(), \u001b[33m'\u001b[39m\u001b[33m..\u001b[39m\u001b[33m'\u001b[39m, \u001b[33m'\u001b[39m\u001b[33msrc\u001b[39m\u001b[33m'\u001b[39m)))\n\u001b[32m      8\u001b[39m \u001b[38;5;28;01mimport\u001b[39;00m\u001b[38;5;250m \u001b[39m\u001b[34;01mpandas\u001b[39;00m\u001b[38;5;250m \u001b[39m\u001b[38;5;28;01mas\u001b[39;00m\u001b[38;5;250m \u001b[39m\u001b[34;01mpd\u001b[39;00m\n\u001b[32m----> \u001b[39m\u001b[32m9\u001b[39m \u001b[38;5;28;01mfrom\u001b[39;00m\u001b[38;5;250m \u001b[39m\u001b[34;01msrc\u001b[39;00m\u001b[34;01m.\u001b[39;00m\u001b[34;01mprepare_data\u001b[39;00m\u001b[38;5;250m \u001b[39m\u001b[38;5;28;01mimport\u001b[39;00m clean_and_prepare_data\n\u001b[32m     11\u001b[39m \u001b[38;5;66;03m# Cell 2: Load raw data\u001b[39;00m\n\u001b[32m     12\u001b[39m raw_path = os.path.abspath(os.path.join(os.getcwd(), \u001b[33m'\u001b[39m\u001b[33m..\u001b[39m\u001b[33m'\u001b[39m, \u001b[33m'\u001b[39m\u001b[33mdata\u001b[39m\u001b[33m'\u001b[39m, \u001b[33m'\u001b[39m\u001b[33mraw\u001b[39m\u001b[33m'\u001b[39m, \u001b[33m'\u001b[39m\u001b[33mraw_data.csv\u001b[39m\u001b[33m'\u001b[39m))\n",
      "\u001b[31mModuleNotFoundError\u001b[39m: No module named 'src'"
     ]
    }
   ],
   "source": [
    "# Notebook: data_preprocessing.ipynb\n",
    "\n",
    "#  Cell 1: Setup and Imports\n",
    "import os\n",
    "import sys\n",
    "import pandas as pd\n",
    "\n",
    "#  Add src/ to the path for importing custom modules\n",
    "sys.path.append(os.path.abspath(os.path.join(os.getcwd(), '..', 'src')))\n",
    "\n",
    "#  Import your function\n",
    "from prepare_data import clean_and_prepare_data\n",
    "\n",
    "#  Cell 2: Load Raw Data\n",
    "raw_path = os.path.abspath(os.path.join(os.getcwd(), '..', 'data', 'raw', 'raw_data.csv'))\n",
    "df_raw = pd.read_csv(raw_path)\n",
    "print(\" Raw data loaded:\")\n",
    "df_raw.head()\n",
    "\n",
    "#  Cell 3: Clean and Feature Engineer\n",
    "df_cleaned = clean_and_prepare_data(df_raw)\n",
    "print(\" Data cleaned and features engineered:\")\n",
    "df_cleaned.head()\n",
    "\n",
    "#  Cell 4: Save the Cleaned Data\n",
    "cleaned_path = os.path.abspath(os.path.join(os.getcwd(), '..', 'data', 'processed', 'cleaned_data.csv'))\n",
    "df_cleaned.to_csv(cleaned_path, index=False)\n",
    "print(f\" Cleaned data saved to: {cleaned_path}\")"
   ]
  }
 ],
 "metadata": {
  "kernelspec": {
   "display_name": "venv",
   "language": "python",
   "name": "python3"
  },
  "language_info": {
   "codemirror_mode": {
    "name": "ipython",
    "version": 3
   },
   "file_extension": ".py",
   "mimetype": "text/x-python",
   "name": "python",
   "nbconvert_exporter": "python",
   "pygments_lexer": "ipython3",
   "version": "3.13.3"
  }
 },
 "nbformat": 4,
 "nbformat_minor": 5
}
